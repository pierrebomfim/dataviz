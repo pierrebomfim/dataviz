{
  "nbformat": 4,
  "nbformat_minor": 0,
  "metadata": {
    "colab": {
      "provenance": [],
      "authorship_tag": "ABX9TyNOQq5ebmGf94pT2TPAlqCl",
      "include_colab_link": true
    },
    "kernelspec": {
      "name": "python3",
      "display_name": "Python 3"
    },
    "language_info": {
      "name": "python"
    }
  },
  "cells": [
    {
      "cell_type": "markdown",
      "metadata": {
        "id": "view-in-github",
        "colab_type": "text"
      },
      "source": [
        "<a href=\"https://colab.research.google.com/github/pierrebomfim/dataviz/blob/main/Primeiros_passos_com_Pandas_e_dados_da_gasolina.ipynb\" target=\"_parent\"><img src=\"https://colab.research.google.com/assets/colab-badge.svg\" alt=\"Open In Colab\"/></a>"
      ]
    },
    {
      "cell_type": "code",
      "execution_count": null,
      "metadata": {
        "id": "m6LQJ8sc6TMT"
      },
      "outputs": [],
      "source": [
        "import pandas as pd"
      ]
    },
    {
      "cell_type": "code",
      "source": [
        "pd.read_excel(\"/content/ultimas-4-semanas-gasolina-etanol-2.xlsx\")"
      ],
      "metadata": {
        "id": "JlIZeRhI6dsU"
      },
      "execution_count": null,
      "outputs": []
    },
    {
      "cell_type": "code",
      "source": [
        "planilha = pd.read_excel(\"/content/ultimas-4-semanas-gasolina-etanol-2.xlsx\")"
      ],
      "metadata": {
        "id": "sAb36esiAdz6"
      },
      "execution_count": null,
      "outputs": []
    },
    {
      "cell_type": "code",
      "source": [
        "planilha.plot(\"Data da Coleta\", \"Valor de Venda\")"
      ],
      "metadata": {
        "colab": {
          "base_uri": "https://localhost:8080/",
          "height": 302
        },
        "id": "yXkt94SJ8uFk",
        "outputId": "1d732b13-0305-4f0c-f63d-bc45a3f1d80b"
      },
      "execution_count": null,
      "outputs": [
        {
          "output_type": "execute_result",
          "data": {
            "text/plain": [
              "<matplotlib.axes._subplots.AxesSubplot at 0x7f1df077ba90>"
            ]
          },
          "metadata": {},
          "execution_count": 13
        },
        {
          "output_type": "display_data",
          "data": {
            "text/plain": [
              "<Figure size 432x288 with 1 Axes>"
            ],
            "image/png": "[encoded data removed]"
          },
          "metadata": {
            "needs_background": "light"
          }
        }
      ]
    },
    {
      "cell_type": "code",
      "source": [
        "planilha[\"Valor de Venda\"]"
      ],
      "metadata": {
        "colab": {
          "base_uri": "https://localhost:8080/"
        },
        "id": "iCyzUVdf64A1",
        "outputId": "2a31483d-5010-4c87-f777-a2d3d80ac680"
      },
      "execution_count": null,
      "outputs": [
        {
          "output_type": "execute_result",
          "data": {
            "text/plain": [
              "0        6.62\n",
              "1        6.47\n",
              "2        5.03\n",
              "3        7.60\n",
              "4        7.60\n",
              "         ... \n",
              "57556    5.74\n",
              "57557    5.24\n",
              "57558    5.75\n",
              "57559    5.29\n",
              "57560    5.75\n",
              "Name: Valor de Venda, Length: 57561, dtype: float64"
            ]
          },
          "metadata": {},
          "execution_count": 8
        }
      ]
    },
    {
      "cell_type": "markdown",
      "source": [
        "planilha.hist(\"Valor de Venda\")"
      ],
      "metadata": {
        "id": "AP-8Q7zb-aXd"
      }
    },
    {
      "cell_type": "code",
      "source": [
        "planilha.hist(\"Data da Coleta\")"
      ],
      "metadata": {
        "id": "ULUAJXvo-5Rl",
        "outputId": "ccb78f5f-c641-4ee3-d404-c41cecd4a936",
        "colab": {
          "base_uri": "https://localhost:8080/",
          "height": 316
        }
      },
      "execution_count": null,
      "outputs": [
        {
          "output_type": "execute_result",
          "data": {
            "text/plain": [
              "array([[<matplotlib.axes._subplots.AxesSubplot object at 0x7f1df2488bd0>]],\n",
              "      dtype=object)"
            ]
          },
          "metadata": {},
          "execution_count": 14
        },
        {
          "output_type": "display_data",
          "data": {
            "text/plain": [
              "<Figure size 432x288 with 1 Axes>"
            ],
            "image/png": "[encoded data removed]"
          },
          "metadata": {
            "needs_background": "light"
          }
        }
      ]
    },
    {
      "cell_type": "code",
      "source": [
        "planilha['Valor de Venda'].mean()"
      ],
      "metadata": {
        "colab": {
          "base_uri": "https://localhost:8080/"
        },
        "id": "hHF9A0mX_NiF",
        "outputId": "c13b63bc-67b5-4582-8639-de2410030773"
      },
      "execution_count": null,
      "outputs": [
        {
          "output_type": "execute_result",
          "data": {
            "text/plain": [
              "5.672362797727627"
            ]
          },
          "metadata": {},
          "execution_count": 20
        }
      ]
    },
    {
      "cell_type": "code",
      "source": [
        "planilha['Valor de Venda'].max()"
      ],
      "metadata": {
        "colab": {
          "base_uri": "https://localhost:8080/"
        },
        "id": "89-ubiT2A8y8",
        "outputId": "8da83e54-1a4a-4eff-903b-d77fb43f311c"
      },
      "execution_count": null,
      "outputs": [
        {
          "output_type": "execute_result",
          "data": {
            "text/plain": [
              "9.28"
            ]
          },
          "metadata": {},
          "execution_count": 22
        }
      ]
    },
    {
      "cell_type": "code",
      "source": [
        "planilha['Valor de Venda'].min()"
      ],
      "metadata": {
        "colab": {
          "base_uri": "https://localhost:8080/"
        },
        "id": "F19Cx8DrBTzH",
        "outputId": "afd7a769-1d90-4a5a-cbef-83e9bd3228cc"
      },
      "execution_count": null,
      "outputs": [
        {
          "output_type": "execute_result",
          "data": {
            "text/plain": [
              "3.39"
            ]
          },
          "metadata": {},
          "execution_count": 23
        }
      ]
    },
    {
      "cell_type": "markdown",
      "source": [
        "Abaixo, vou plotar um gráfico mostrando o valor mais alto do combustível por regiões."
      ],
      "metadata": {
        "id": "3l4ph4x-u5aM"
      }
    },
    {
      "cell_type": "code",
      "source": [
        "planilha[\"Regiao - Sigla\"].describe()"
      ],
      "metadata": {
        "colab": {
          "base_uri": "https://localhost:8080/"
        },
        "id": "Pws7QBJ2vD1R",
        "outputId": "f4972821-279f-4ab1-a12e-a916833e5283"
      },
      "execution_count": null,
      "outputs": [
        {
          "output_type": "execute_result",
          "data": {
            "text/plain": [
              "count     57561\n",
              "unique        5\n",
              "top          SE\n",
              "freq      27658\n",
              "Name: Regiao - Sigla, dtype: object"
            ]
          },
          "metadata": {},
          "execution_count": 5
        }
      ]
    },
    {
      "cell_type": "markdown",
      "source": [
        "SE NE S N CO"
      ],
      "metadata": {
        "id": "mxiQM2xsvY19"
      }
    },
    {
      "cell_type": "code",
      "source": [],
      "metadata": {
        "id": "HFh5_wA3vOf0"
      },
      "execution_count": null,
      "outputs": []
    },
    {
      "cell_type": "code",
      "source": [
        "N_df = planilha[ planilha[\"Regiao - Sigla\"] == \"N\" ]"
      ],
      "metadata": {
        "id": "QBYuzBvGvmaW"
      },
      "execution_count": null,
      "outputs": []
    },
    {
      "cell_type": "code",
      "source": [
        "N_df[\"Valor de Venda\"].max()"
      ],
      "metadata": {
        "colab": {
          "base_uri": "https://localhost:8080/"
        },
        "id": "FaDnG1jlv8hY",
        "outputId": "0555cccd-8239-4987-8a79-b2e2ba81db09"
      },
      "execution_count": null,
      "outputs": [
        {
          "output_type": "execute_result",
          "data": {
            "text/plain": [
              "8.2"
            ]
          },
          "metadata": {},
          "execution_count": 13
        }
      ]
    },
    {
      "cell_type": "code",
      "source": [
        "N_df[\"Valor de Venda\"].plot()"
      ],
      "metadata": {
        "colab": {
          "base_uri": "https://localhost:8080/",
          "height": 282
        },
        "id": "S-LY-MZFwF01",
        "outputId": "81eb2e69-8460-429b-b438-7b103adf6f19"
      },
      "execution_count": null,
      "outputs": [
        {
          "output_type": "execute_result",
          "data": {
            "text/plain": [
              "<matplotlib.axes._subplots.AxesSubplot at 0x7f9a13b7ddd0>"
            ]
          },
          "metadata": {},
          "execution_count": 15
        },
        {
          "output_type": "display_data",
          "data": {
            "text/plain": [
              "<Figure size 432x288 with 1 Axes>"
            ],
            "image/png": "[encoded data removed]"
          },
          "metadata": {
            "needs_background": "light"
          }
        }
      ]
    },
    {
      "cell_type": "code",
      "source": [],
      "metadata": {
        "id": "NiTvSidy0Lt7"
      },
      "execution_count": null,
      "outputs": []
    }
  ]
}